{
 "cells": [
  {
   "cell_type": "markdown",
   "metadata": {},
   "source": [
    "## Developer : Khajornsak krongyud"
   ]
  },
  {
   "cell_type": "code",
   "execution_count": 5,
   "metadata": {},
   "outputs": [],
   "source": [
    "import math\n",
    "import pandas as pd"
   ]
  },
  {
   "cell_type": "code",
   "execution_count": null,
   "metadata": {},
   "outputs": [],
   "source": [
    "#หาค่าEMV \n",
    "cost = float(input(\"ต้นทุน: \"))\n",
    "prof = float(input(\"จำหน่าย: \"))\n",
    "choice = float(input(\"เลหลัง: \"))\n",
    "#ex.input -->  อัตราการผลิด: 1000 1200 1400 1600\n",
    "prod = list(map(float,input(\"อัตราการผลิต: \").split(\" \")))\n",
    "#ex.input -->  ความถี่: 10 40 30 20\n",
    "freq = list(map(float,input(\"ความถี่: \").split(\" \")))\n",
    "arr = [[] for i in range(len(prod))]\n",
    "profit = []\n",
    "def emv(n, frequency, arr):\n",
    "    total = 0\n",
    "    print(\"\\nEMV {}\".format(n + 1))\n",
    "    freq = []\n",
    "    for i in range(len(frequency)):\n",
    "        freq.insert(i,(frequency[i] / sum(frequency)))\n",
    "\n",
    "    for i in range(len(arr)):\n",
    "        result_emv = arr[i][n] * freq[i]\n",
    "        total += result_emv\n",
    "        print(\"{}    {}    {} \\n\".format((arr[i][n]), freq[i], result_emv))\n",
    "    print(\"รวม = \", total)\n",
    "    return total\n",
    "    \n",
    "\n",
    "print()\n",
    "for i in range(len(prod)):\n",
    "    for j in range(len(prod)):\n",
    "        if(prod[i] < prod[j]):\n",
    "            result = ((prod[i] * prof) - (prod[j] * cost)) + ((prod[j] - prod[i]) * choice)\n",
    "            arr[i].append(result)\n",
    "            print(\"| ({} * {}) - ({} * {}) + ({} * {}) = {} \".format(prod[i], prof, prod[j], cost, (prod[j] - prod[i]), choice, result), end=\"\")\n",
    "        if(prod[i] > prod[j]):\n",
    "            result = ((prod[j] * prof) - (prod[j] * cost))\n",
    "            arr[i].append(result)\n",
    "            print(\"| {} \".format(result), end=\"\")\n",
    "        if(prod[i] == prod[j]):\n",
    "            result = ((prod[i] * prof) - (prod[j] * cost))\n",
    "            arr[i].append(result)\n",
    "            print(\"| ({} * {}) - ({} * {}) = {} \".format(prod[i], prof, prod[j], cost, result), end=\"\")\n",
    "    print(\"\\n\")\n",
    "\n",
    "for i in range(len(prod)):\n",
    "    profit.append(emv(i, freq, arr))\n",
    "    \n",
    "print(\"\\nกำไรที่มากที่สุดคือ : \" , max(profit), \" ควรเลือก : \", prod[profit.index(max(profit))])"
   ]
  },
  {
   "cell_type": "code",
   "execution_count": 7,
   "metadata": {},
   "outputs": [
    {
     "name": "stdout",
     "output_type": "stream",
     "text": [
      "ความต้องการสินค้า: 1200\n",
      "ต้นทุน: 3\n",
      "ค่าใช้จ่ายในการรักษา: 10\n",
      "ค่าใช้จ่ายในการสั่งซื้อ: 30\n",
      "A =  3600.0\n",
      "จำนวนคร้ังที่ดีที่สุดในการสั่งซ้ือสินค้า =  2.449489742783178\n",
      "ปริมาณสินค้าที่ควรสั่งซื้อในแต่ละคร้ัง =   489.89794855663564\n",
      "มูลค่าสินค้าที่สั่งซ้ือแต่ละคร้ัง =  1469.6938456699068\n",
      "                                                     1       2       3      4\n",
      "ปริมาณสินค้าที่สั่งซื้อต่อคร้ัง (หน่วย)         1200.0   600.0   400.0  300.0\n",
      "มูลค่าของสินค้าต่อการสั่งซื้อหนึ่งคร้ัง (บาท)   3600.0  1800.0  1200.0  900.0\n",
      "มูลค่าสินค่าคงคลังถัวเฉลี่ย (บาท)               1800.0   900.0   600.0  450.0\n",
      "ค่าใช้จ่ายในการเก็บรักษา(บาท)                    180.0    90.0    60.0   45.0\n",
      "ค่าใช้จ่ายในการสั่งซื้อ (บาท)                     30.0    60.0    90.0  120.0\n",
      "ค่าใช้จ่ายของคงคลังทั้งสิ้นต่อปี (บาท)           210.0   150.0   150.0  165.0\n",
      "ปริมาณการสั่งซื้อที่ประหยัดที่สุด =  489.8979485566356\n",
      "ค.ช.จ. รวม (Total Cost) =  3746.969384566991\n"
     ]
    }
   ],
   "source": [
    "#คงคลัง\n",
    "data = dict()\n",
    "d = int(input(\"ความต้องการสินค้า: \"))\n",
    "c = float(input(\"ต้นทุน: \"))\n",
    "h = float(input(\"ค่าใช้จ่ายในการรักษา: \")) / 100\n",
    "k = float(input(\"ค่าใช้จ่ายในการสั่งซื้อ: \"))\n",
    "a = d * c\n",
    "print(\"A = \", a)\n",
    "best_order = math.sqrt(((a*h) / (2*k)))\n",
    "amount_pro_order = math.sqrt((((2 * a) * k) / ((c ** 2) * h)))\n",
    "value_order = math.sqrt((((2 * a) * k) / h))\n",
    "q = math.sqrt(((((2 * k) * d) / (h * c))))\n",
    "print(\"จำนวนคร้ังที่ดีที่สุดในการสั่งซ้ือสินค้า = \", best_order)\n",
    "print(\"ปริมาณสินค้าที่ควรสั่งซื้อในแต่ละคร้ัง =  \", amount_pro_order)\n",
    "print(\"มูลค่าสินค้าที่สั่งซ้ือแต่ละคร้ัง = \", value_order)\n",
    "\n",
    "if int(best_order)  == 1:\n",
    "    for i in range(int(best_order), int(best_order +2)):\n",
    "        am_pro = d / i\n",
    "        value_pro = am_pro * c\n",
    "        value_avg = value_pro / 2\n",
    "        treat = value_avg * h\n",
    "        price_order = i * k\n",
    "        inventory_of_year = treat + price_order\n",
    "        data[i] = [am_pro,value_pro,value_avg, treat, price_order,inventory_of_year]\n",
    "elif int(best_order) == 2:\n",
    "    for i in range(int(best_order) - 1, int(best_order +3)):\n",
    "        am_pro = d / i\n",
    "        value_pro = am_pro * c\n",
    "        value_avg = value_pro / 2\n",
    "        treat = value_avg * h\n",
    "        price_order = i * k\n",
    "        inventory_of_year = treat + price_order\n",
    "        data[i] = [am_pro,value_pro,value_avg, treat, price_order,inventory_of_year]\n",
    "else:\n",
    "    for i in range(int(best_order) - 2, int(best_order +3)):\n",
    "        am_pro = d / i\n",
    "        value_pro = am_pro * c\n",
    "        value_avg = value_pro / 2\n",
    "        treat = value_avg * h\n",
    "        price_order = i * k\n",
    "        inventory_of_year = treat + price_order\n",
    "        data[i] = [am_pro,value_pro,value_avg, treat, price_order,inventory_of_year]\n",
    "\n",
    "df = pd.DataFrame(data, index=['ปริมาณสินค้าที่สั่งซื้อต่อคร้ัง (หน่วย) ','มูลค่าของสินค้าต่อการสั่งซื้อหนึ่งคร้ัง (บาท) ','มูลค่าสินค่าคงคลังถัวเฉลี่ย (บาท) ','ค่าใช้จ่ายในการเก็บรักษา(บาท)', 'ค่าใช้จ่ายในการสั่งซื้อ (บาท)', 'ค่าใช้จ่ายของคงคลังทั้งสิ้นต่อปี (บาท)'])\n",
    "print(df)\n",
    "\n",
    "print('ปริมาณการสั่งซื้อที่ประหยัดที่สุด = ', q)\n",
    "tc = ((k*d) / q) + (((h * 3)*q) / 2) + (c * d)\n",
    "print('ค.ช.จ. รวม (Total Cost) = ' , tc)\n"
   ]
  },
  {
   "cell_type": "code",
   "execution_count": null,
   "metadata": {},
   "outputs": [],
   "source": [
    "#แถวคอย\n",
    "m = float(input(\"อัตราการมารับบริการ: \"))\n",
    "u = float(input(\"อัตราการให้บริการ: \"))\n",
    "\n",
    "L = m / (u - m)\n",
    "print(\"จานวนลูกค้าที่อยู่ในระบบแถวคอย L = \", L)\n",
    "\n",
    "Lq = m ** 2 / (u * ( u - m))\n",
    "print(\"จำนวนลูกค้าที่อยู่ในแถวคอย Lq =  \", Lq)\n",
    "\n",
    "W = 1 / (u - m)\n",
    "print(\"เวลาที่อยู่ในระบบแถวคอย W = \", W)\n",
    "\n",
    "Wq = m / (u * (u - m))\n",
    "print(\"เวลาที่อยู่ในแถวคอย  Wq = \", Wq)\n",
    "\n",
    "P0 = 1 - (m / u)\n",
    "print(\"Prob. ที่จะไม่มีลูกค้าในระบบ P0 = \",P0)\n"
   ]
  },
  {
   "cell_type": "code",
   "execution_count": 2,
   "metadata": {},
   "outputs": [
    {
     "name": "stdout",
     "output_type": "stream",
     "text": [
      "number: 4 5 12\n",
      "Te =  6.0\n"
     ]
    }
   ],
   "source": [
    "#pert\n",
    "#  ex.input   -- >  number: 4 5 12\n",
    "number = list(map(float,input(\"number: \").split(\" \")))\n",
    "a = number[0]\n",
    "m = number[1]\n",
    "b = number[2]\n",
    "Te = ((a + (4 * m)) + b) / 6\n",
    "print(\"Te = \", Te)"
   ]
  },
  {
   "cell_type": "code",
   "execution_count": null,
   "metadata": {},
   "outputs": [],
   "source": []
  }
 ],
 "metadata": {
  "kernelspec": {
   "display_name": "Python 3.7.7 64-bit ('base': conda)",
   "language": "python",
   "name": "python37764bitbasecondac4c1c4fef4c74daca88d1025ac1aac40"
  },
  "language_info": {
   "codemirror_mode": {
    "name": "ipython",
    "version": 3
   },
   "file_extension": ".py",
   "mimetype": "text/x-python",
   "name": "python",
   "nbconvert_exporter": "python",
   "pygments_lexer": "ipython3",
   "version": "3.7.7"
  }
 },
 "nbformat": 4,
 "nbformat_minor": 4
}
